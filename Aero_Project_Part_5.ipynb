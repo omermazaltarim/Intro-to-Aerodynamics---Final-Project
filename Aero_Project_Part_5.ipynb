{
  "nbformat": 4,
  "nbformat_minor": 0,
  "metadata": {
    "colab": {
      "provenance": []
    },
    "kernelspec": {
      "name": "python3",
      "display_name": "Python 3"
    },
    "language_info": {
      "name": "python"
    }
  },
  "cells": [
    {
      "cell_type": "code",
      "execution_count": null,
      "metadata": {
        "id": "zPwTCmpOlevG"
      },
      "outputs": [],
      "source": []
    },
    {
      "cell_type": "code",
      "source": [
        "import math\n",
        "import cmath\n",
        "import numpy as np\n",
        "import matplotlib.pyplot as plt\n",
        "#initial data of our airfoil\n",
        "c=0.61\n",
        "b=c/2 #half chord point\n",
        "rho=1.225\n",
        "pi=math.pi\n",
        "h1=0 #plunge amplitutde\n",
        "phi_alpha=0 #for symmetry\n",
        "phi_h=0 #for symmetry\n",
        "psi1=0.165\n",
        "psi2=0.335\n",
        "eps1=0.0455\n",
        "eps2=0.3\n",
        "x_cp=0.25*c\n",
        "k0=0.099\n",
        "alpha_0=2.64*pi/180 #mean angle of attack amplitutde\n",
        "alpha_1=10.16*pi/180\n",
        "a=-0.5\n",
        "f0=5.35\n",
        "w0=2*pi*f0\n",
        "\n",
        "#setting time steps\n",
        "T_cycle=1/f0\n",
        "t_step = 2*pi/(30*w0)\n",
        "steps= int(T_cycle/t_step)\n",
        "t=np.linspace(0,T_cycle,steps)\n",
        "wt=w0*(180/pi)*t\n",
        "u_e=w0*b/k0 # extracting flow speed\n",
        "Re=3.9*10**6\n",
        "\n",
        "#creating denominator parameters to ease computation\n",
        "d1=1-((eps1/k0)**2)*1j\n",
        "d2=1-((eps2/k0)**2)*1j\n",
        "C_k=1-(psi1/d1)-(psi2/d2)\n",
        "l0=-2*rho*(u_e**2)*b*pi*alpha_0 #mean \"DC\" component of the lift\n",
        "exp_h=cmath.exp(phi_h*1j)\n",
        "exp_alpha=cmath.exp(phi_alpha*1j)\n",
        "exp_wt=np.exp(1j*wt)\n",
        "exp_wt_con=exp_wt.conjugate()\n",
        "lw0 = -rho * pi * (b**2) * (-(w0**2) * (h1 / 2j) * exp_h + ((w0**2) * b * a + 1j * w0 * u_e) * (alpha_1 / (2j)) * exp_alpha - 2 * rho * u_e * b * pi * C_k * (1j * w0 * (h1 / (2j))*cmath.exp(1j*phi_h)+ (u_e + b * (0.5 - a) * 1j * w0) * (alpha_1 / (2j)))) #response lift\n",
        "lw0_con=lw0.conjugate()\n",
        "l_t = l0+lw0*exp_wt+lw0_con*exp_wt_con\n",
        "cl_t=l_t.real/(0.5*rho*(u_e**2)*c)\n",
        "plt.plot(wt,cl_t)\n",
        "plt.grid()\n",
        "plt.title(\"Cl(t)\")\n",
        "plt.xlabel(\"\\u03C9t\")\n",
        "plt.ylabel(\"cl(t)\")\n",
        "plt.show()\n"
      ],
      "metadata": {
        "id": "d6zR_cHcm4HO"
      },
      "execution_count": null,
      "outputs": []
    },
    {
      "cell_type": "markdown",
      "source": [
        "Importing key libraries for the analysis"
      ],
      "metadata": {
        "id": "PIExVNBtm6lJ"
      }
    },
    {
      "cell_type": "code",
      "source": [
        "import math\n",
        "import cmath\n",
        "import numpy as np\n",
        "import matplotlib.pyplot as plt"
      ],
      "metadata": {
        "id": "cru4GpaNm_UG"
      },
      "execution_count": null,
      "outputs": []
    },
    {
      "cell_type": "markdown",
      "source": [
        "Setting the parameters for the analysis"
      ],
      "metadata": {
        "id": "aqm3PQjUnJTu"
      }
    },
    {
      "cell_type": "code",
      "source": [
        "c=0.61\n",
        "b=c/2 #half chord point\n",
        "rho=1.225\n",
        "pi=math.pi\n",
        "h1=0 #plunge amplitutde\n",
        "phi_alpha=0 #for symplification\n",
        "phi_h=0 #for symplification\n",
        "psi1=0.165\n",
        "psi2=0.335\n",
        "eps1=0.0455\n",
        "eps2=0.3\n",
        "x_cp=0.25*c\n",
        "k0=0.099\n",
        "alpha_0=2.64*pi/180 #mean angle of attack amplitutde\n",
        "alpha_1=10.16*pi/180\n",
        "a=-0.5\n",
        "f0=5.35\n",
        "w0=2*pi*f0"
      ],
      "metadata": {
        "id": "Sn6nEZ7BnSq1"
      },
      "execution_count": null,
      "outputs": []
    },
    {
      "cell_type": "markdown",
      "source": [
        "Setting the time steps based on the data from the paper"
      ],
      "metadata": {
        "id": "2w2n4YuDsi0L"
      }
    },
    {
      "cell_type": "code",
      "source": [
        "T_cycle=1/f0\n",
        "t_step = 2*pi/(30*w0)\n",
        "steps= int(T_cycle/t_step)\n",
        "t=np.linspace(0,T_cycle,steps)\n",
        "wt=w0*(180/pi)*t\n",
        "u_e=w0*b/k0 # extracting flow speed\n",
        "Re=3.9*10**6"
      ],
      "metadata": {
        "id": "NEX-aZ0EsqSR"
      },
      "execution_count": null,
      "outputs": []
    },
    {
      "cell_type": "markdown",
      "source": [
        "Creating denominators in order to reduce the amount of parameters used in calculation"
      ],
      "metadata": {
        "id": "vLN4wgaYsuNQ"
      }
    },
    {
      "cell_type": "code",
      "source": [
        "d1=1-((eps1/k0)**2)*1j\n",
        "d2=1-((eps2/k0)**2)*1j"
      ],
      "metadata": {
        "id": "akrof3BctCLY"
      },
      "execution_count": null,
      "outputs": []
    },
    {
      "cell_type": "markdown",
      "source": [
        "Calculatiin Theorosen's equation"
      ],
      "metadata": {
        "id": "6iD7kq9YtRJ7"
      }
    },
    {
      "cell_type": "code",
      "source": [
        "C_k=1-(psi1/d1)-(psi2/d2)"
      ],
      "metadata": {
        "id": "lFCRCDfwtXmG"
      },
      "execution_count": null,
      "outputs": []
    },
    {
      "cell_type": "markdown",
      "source": [
        "Calculating the mean lift component, analogous to a \"mean DC\" component of an AC current with a non-zero avreage current value."
      ],
      "metadata": {
        "id": "SuV_neaTtaO6"
      }
    },
    {
      "cell_type": "code",
      "source": [
        "l0=-2*rho*(u_e**2)*b*pi*alpha_0"
      ],
      "metadata": {
        "id": "miOPwiu4t5ys"
      },
      "execution_count": null,
      "outputs": []
    },
    {
      "cell_type": "markdown",
      "source": [
        "Creating the complex exponentials in the lift componenets whiche are essentialy a frequency response to the sinsodiual input."
      ],
      "metadata": {
        "id": "X9-Dyb3quAyj"
      }
    },
    {
      "cell_type": "code",
      "source": [
        "exp_h=cmath.exp(phi_h*1j)\n",
        "exp_alpha=cmath.exp(phi_alpha*1j)\n",
        "exp_wt=np.exp(1j*wt)\n",
        "exp_wt_con=exp_wt.conjugate()"
      ],
      "metadata": {
        "id": "iogfTXdkuczG"
      },
      "execution_count": null,
      "outputs": []
    },
    {
      "cell_type": "markdown",
      "source": [
        "Calculating the lift frequency responses"
      ],
      "metadata": {
        "id": "G8169MN-ueci"
      }
    },
    {
      "cell_type": "code",
      "source": [
        "lw0 = -rho * pi * (b**2) * (-(w0**2) * (h1 / 2j) * exp_h + ((w0**2) * b * a + 1j * w0 * u_e) * (alpha_1 / (2j)) * exp_alpha - 2 * rho * u_e * b * pi * C_k * (1j * w0 * (h1 / (2j))*cmath.exp(1j*phi_h)+ (u_e + b * (0.5 - a) * 1j * w0) * (alpha_1 / (2j)))) #response lift\n",
        "lw0_con=lw0.conjugate()"
      ],
      "metadata": {
        "id": "cW6ApNzYulof"
      },
      "execution_count": null,
      "outputs": []
    },
    {
      "cell_type": "markdown",
      "source": [
        "Calculating the lift as a function of time"
      ],
      "metadata": {
        "id": "cSM9sYKFut54"
      }
    },
    {
      "cell_type": "code",
      "source": [
        "l_t = l0+lw0*exp_wt+lw0_con*exp_wt_con\n",
        "cl_t=l_t.real/(0.5*rho*(u_e**2)*c)"
      ],
      "metadata": {
        "id": "h7Ss_e-2u_y-"
      },
      "execution_count": null,
      "outputs": []
    },
    {
      "cell_type": "markdown",
      "source": [
        "Plotting the results"
      ],
      "metadata": {
        "id": "a15wS6x3vGoq"
      }
    },
    {
      "cell_type": "code",
      "source": [
        "plt.plot(wt,cl_t)\n",
        "plt.grid()\n",
        "plt.title(\"Cl(t)\")\n",
        "plt.xlabel(\"\\u03C9t\")\n",
        "plt.ylabel(\"cl(t)\")\n",
        "plt.show()"
      ],
      "metadata": {
        "id": "BmC4TdWBvOoB"
      },
      "execution_count": null,
      "outputs": []
    }
  ]
}
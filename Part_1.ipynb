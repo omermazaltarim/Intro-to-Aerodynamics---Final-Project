{
  "nbformat": 4,
  "nbformat_minor": 0,
  "metadata": {
    "colab": {
      "provenance": []
    },
    "kernelspec": {
      "name": "python3",
      "display_name": "Python 3"
    },
    "language_info": {
      "name": "python"
    }
  },
  "cells": [
    {
      "cell_type": "code",
      "execution_count": null,
      "metadata": {
        "id": "soF0sVkm3PYd"
      },
      "outputs": [],
      "source": []
    },
    {
      "cell_type": "markdown",
      "source": [
        "This code was used for thin airfoil theory calculations"
      ],
      "metadata": {
        "id": "3hNSPv2K3cdW"
      }
    },
    {
      "cell_type": "markdown",
      "source": [
        "Setting up libraries and constants"
      ],
      "metadata": {
        "id": "V6l87wuw3ttE"
      }
    },
    {
      "cell_type": "code",
      "source": [
        "import numpy as np\n",
        "import scipy.integrate as integrate\n",
        "import math\n",
        "import pandas as pd\n",
        "pi = math.pi\n",
        "radian = pi/180\n",
        "degree = \"\\u00B0\"\n",
        "alpha = \"\\u03B1\"\n",
        "rho = 1.225 #kg/m^3\n",
        "mu = 1.789*10**-5\n"
      ],
      "metadata": {
        "id": "Y9KLlqVm3pea"
      },
      "execution_count": null,
      "outputs": []
    },
    {
      "cell_type": "code",
      "source": [
        "def to_subscript(n):\n",
        "    subscript_map = str.maketrans(\"0123456789\", \"₀₁₂₃₄₅₆₇₈₉\")\n",
        "    return str(n).translate(subscript_map)"
      ],
      "metadata": {
        "id": "zCjO-zRa386J"
      },
      "execution_count": null,
      "outputs": []
    },
    {
      "cell_type": "markdown",
      "source": [
        "Defining the zero-lift angle of attack"
      ],
      "metadata": {
        "id": "DNx4eZTM33d4"
      }
    },
    {
      "cell_type": "code",
      "source": [
        "def alpha_zero_lift(airfoil,c):\n",
        "    if airfoil[0] == \"0\" and airfoil[1] == \"0\":\n",
        "        alpha_0_l = 0\n",
        "        return alpha_0_l\n",
        "    else:\n",
        "        P = 0.1*float(airfoil[1])\n",
        "        M = 0.01*float(airfoil[0])\n",
        "        theta_zero_values = []\n",
        "        x = np.linspace(0,c,100)\n",
        "        theta_zero_P = math.acos(1-2*P)*radian\n",
        "        for i in range(len(x)):\n",
        "            theta_zero = math.acos(1-2*(x[i]/c)) * radian\n",
        "            theta_zero_values.append(theta_zero)\n"
      ],
      "metadata": {
        "id": "ZyeZWuW_4C0K"
      },
      "execution_count": null,
      "outputs": []
    },
    {
      "cell_type": "markdown",
      "source": [
        "Calculation alpha_zero lift"
      ],
      "metadata": {
        "id": "OWxCPPcd4Gq1"
      }
    },
    {
      "cell_type": "code",
      "source": [
        "# Integrand for the first integral\n",
        "        integrand_1 = lambda theta_zero: (M / (P ** 2)) * (P - 0.5 * (1 - math.cos(theta_zero)) * (math.cos(theta_zero) - 1))\n",
        "        result_1, _ = integrate.quad(integrand_1, 0, theta_zero_P)\n",
        "\n",
        "        # Integrand for the second integral\n",
        "        integrand_2 = lambda theta_zero: (M / (1 - (P ** 2))) * (P - 0.5 * (1 - math.cos(theta_zero)) * (math.cos(theta_zero) - 1))\n",
        "        result_2, _ = integrate.quad(integrand_2, theta_zero_P, pi)\n",
        "\n",
        "        # Calculating alpha_0_l\n",
        "        alpha_0_l = -1/pi * (result_1 + result_2)\n",
        "        return alpha_0_l"
      ],
      "metadata": {
        "id": "zG5javf64Jvg"
      },
      "execution_count": null,
      "outputs": []
    },
    {
      "cell_type": "markdown",
      "source": [
        "Calculation the Fourier coefficients"
      ],
      "metadata": {
        "id": "63lCsGfH4LEm"
      }
    },
    {
      "cell_type": "code",
      "source": [
        "def Fourier_coeff(airfoil,c,n,alpha):\n",
        "    P = 0.1*float(airfoil[1])\n",
        "    M = 0.01*float(airfoil[0])\n",
        "    theta_zero_values = []\n",
        "    x = np.linspace(0,c,100)\n",
        "    theta_zero_P = math.acos(1-2*P)*radian\n",
        "    for i in range(len(x)):\n",
        "        theta_zero = math.acos(1-2*(x[i]/c)) * radian\n",
        "        theta_zero_values.append(theta_zero)\n",
        "    if M == 0 and P == 0:\n",
        "        if n == 0:\n",
        "            A_n = alpha\n",
        "            return A_n\n",
        "        else:\n",
        "            A_n = 0\n",
        "            return A_n\n",
        "    else:\n",
        "        if n == 0:\n",
        "            integrand_1 = lambda theta_zero: alpha * radian - (M / (P ** 2)) * (P - 0.5 * (1 - math.cos(theta_zero)) * (math.cos(theta_zero) - 1))\n",
        "            result_1, _ = integrate.quad(integrand_1, 0, theta_zero_P)\n",
        "\n",
        "            # Integrand for the second integral\n",
        "            integrand_2 = lambda theta_zero: (M / ((1 - P) ** 2)) * (P - 0.5 * (1 - math.cos(theta_zero)) * (math.cos(theta_zero) - 1))\n",
        "            result_2, _ = integrate.quad(integrand_2, theta_zero_P, pi)\n",
        "\n",
        "        else:\n",
        "            integrand_1 = lambda theta_zero: (M / (P ** 2)) * (P - 0.5 * (1 - math.cos(theta_zero)) * (math.cos(theta_zero * n)))\n",
        "            result_1, _ = integrate.quad(integrand_1, 0, theta_zero_P)\n",
        "\n",
        "            integrand_2 = lambda theta_zero: (M / (1 - (P ** 2))) * (P - 0.5 * (1 - math.cos(theta_zero)) * (math.cos(theta_zero * n)))\n",
        "            result_2, _ = integrate.quad(integrand_2, theta_zero_P, pi)\n",
        "\n",
        "            # Calculating A_n\n",
        "            A_n = 2/pi * (result_1 + result_2)\n",
        "            return A_n"
      ],
      "metadata": {
        "id": "anqTnIX_4RYo"
      },
      "execution_count": null,
      "outputs": []
    },
    {
      "cell_type": "markdown",
      "source": [
        "Calculating Cl and Cm for the three airfoils"
      ],
      "metadata": {
        "id": "boyNiHhO4SiR"
      }
    },
    {
      "cell_type": "code",
      "source": [
        "angles_of_attack = np.linspace(-4,24,29)\n",
        "Cl_array_0012 = np.array([2 * pi * (angle * radian-alpha_zero_lift(\"0012\", 1) ) for angle in angles_of_attack])\n",
        "Cm_array_0012 = np.array([-((cl/4)+(pi/4) * (Fourier_coeff(\"0012\", 1, 2,alpha=0) - Fourier_coeff(\"0012\", 1, 1, alpha=0))) for cl in Cl_array_0012])\n",
        "\n",
        "Cl_array_2412 = np.array([2 * pi * (angle * radian-alpha_zero_lift(\"2412\", 1) ) for angle in angles_of_attack])\n",
        "Cm_array_2412 = np.array([-((cl/4)+(pi/4) * (Fourier_coeff(\"2412\", 1, 2,alpha=0) - Fourier_coeff(\"2412\", 1, 1, alpha=0))) for cl in Cl_array_2412])\n",
        "\n",
        "Cl_array_2406 = np.array([2 * pi * (angle * radian-alpha_zero_lift(\"2406\", 1) ) for angle in angles_of_attack])\n",
        "Cm_array_2406 = np.array([-((cl/4)+(pi/4) * (Fourier_coeff(\"2406\", 1, 2,alpha=0) - Fourier_coeff(\"2406\", 1, 1, alpha=0))) for cl in Cl_array_2406])"
      ],
      "metadata": {
        "id": "CaEhJnPu4ZvR"
      },
      "execution_count": null,
      "outputs": []
    },
    {
      "cell_type": "markdown",
      "source": [
        "Organizing the data in data frames"
      ],
      "metadata": {
        "id": "W5qVgJx54a3L"
      }
    },
    {
      "cell_type": "code",
      "source": [
        "NACA0012 = pd.DataFrame({\n",
        "    f\"{alpha}\\u2080\\u2097\": [alpha_zero_lift(\"0012\", 1) / radian] * len(angles_of_attack),\n",
        "    f\"{alpha}\":angles_of_attack,\n",
        "    f\"C{to_subscript('l')}\": Cl_array_0012,\n",
        "    f\"C{to_subscript('m')}\": Cm_array_0012\n",
        "})\n",
        "\n",
        "NACA2412 = pd.DataFrame({\n",
        "    f\"{alpha}\\u2080\\u2097\": [alpha_zero_lift(\"2412\", 1) / radian] * len(angles_of_attack),\n",
        "    f\"{alpha}\":angles_of_attack,\n",
        "    f\"C{to_subscript('l')}\": Cl_array_2412,\n",
        "    f\"C{to_subscript('m')}\": Cm_array_2412\n",
        "})\n",
        "\n",
        "NACA2406 = pd.DataFrame({\n",
        "    f\"{alpha}\\u2080\\u2097\": [alpha_zero_lift(\"2406\", 1) / radian] * len(angles_of_attack),\n",
        "    f\"{alpha}\":angles_of_attack,\n",
        "    f\"C{to_subscript('l')}\": Cl_array_2406,\n",
        "    f\"C{to_subscript('m')}\": Cm_array_2406\n",
        "})\n",
        "print(f\"NACA2406\\n{NACA2406}\\n\\nNACA2412\\n{NACA2412}\\n\\nNACA0012\\n{NACA0012}\")\n",
        "NACA0012.to_csv(\"NACA 0012 - Thin airfoil analysis.csv\", sep=',')\n",
        "NACA2412.to_csv(\"NACA 2412 - Thin airfoil analysis.csv\", sep=',')\n",
        "NACA2406.to_csv(\"NACA 2406- Thin airfoil analysis.csv\", sep=',')"
      ],
      "metadata": {
        "id": "XdyDgVe74jgp"
      },
      "execution_count": null,
      "outputs": []
    }
  ]
}
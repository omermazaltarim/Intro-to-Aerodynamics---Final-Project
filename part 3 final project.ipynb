{
 "cells": [
  {
   "cell_type": "markdown",
   "metadata": {},
   "source": [
    "lets start with the modeling of a vortex"
   ]
  },
  {
   "cell_type": "code",
   "execution_count": 18,
   "metadata": {},
   "outputs": [],
   "source": [
    "import numpy as np\n",
    "import math\n",
    "from matplotlib import pyplot\n",
    "# embed the figures into the notebook\n",
    "%matplotlib inline"
   ]
  },
  {
   "cell_type": "markdown",
   "metadata": {},
   "source": [
    "## 1) import the correct airfoil"
   ]
  },
  {
   "cell_type": "code",
   "execution_count": 19,
   "metadata": {},
   "outputs": [],
   "source": [
    "# load geometry from data file\n",
    "naca_filepath = r'C:\\Users\\Ben\\Documents\\לימודים\\שנה ד\\סמסטר ב\\אווירודינמיקה\\קוד\\IntroToAeroTau-main\\notebooks\\naca2412.dat'\n",
    "with open(naca_filepath, 'r') as infile:\n",
    "    x, y = numpy.loadtxt(infile, dtype=float, unpack=True)"
   ]
  },
  {
   "cell_type": "code",
   "execution_count": 20,
   "metadata": {},
   "outputs": [
    {
     "data": {
      "text/plain": [
       "(-0.05, 1.05, -0.048354999999999995, 0.084855)"
      ]
     },
     "execution_count": 20,
     "metadata": {},
     "output_type": "execute_result"
    },
    {
     "data": {
      "image/png": "[encoded data removed]",
      "text/plain": [
       "<Figure size 300x300 with 1 Axes>"
      ]
     },
     "metadata": {},
     "output_type": "display_data"
    }
   ],
   "source": [
    "# plot geometry\n",
    "width = 3\n",
    "pyplot.figure(figsize=(width, width))\n",
    "pyplot.grid()\n",
    "pyplot.xlabel('x', fontsize=16)\n",
    "pyplot.ylabel('y', fontsize=16)\n",
    "pyplot.plot(x, y, color='k', linestyle='-', linewidth=2)\n",
    "pyplot.xlim(-0.1, 1.1)\n",
    "pyplot.ylim(-0.1, 0.1)\n",
    "pyplot.axis('equal')"
   ]
  },
  {
   "cell_type": "markdown",
   "metadata": {},
   "source": [
    "## 2) Add code from lessons"
   ]
  },
  {
   "cell_type": "markdown",
   "metadata": {},
   "source": [
    "velocity and stream function for vortex"
   ]
  },
  {
   "cell_type": "code",
   "execution_count": null,
   "metadata": {},
   "outputs": [],
   "source": [
    "def get_velocity_vortex(strength, xv, yv, X, Y):\n",
    "    \"\"\"\n",
    "    Returns the velocity field generated by a vortex.\n",
    "\n",
    "    Parameters\n",
    "    ----------\n",
    "    strength: float\n",
    "        Strength of the vortex.\n",
    "    xv: float\n",
    "        x-coordinate of the vortex.\n",
    "    yv: float\n",
    "        y-coordinate of the vortex.\n",
    "    X: 2D Numpy array of floats\n",
    "        x-coordinate of the mesh points.\n",
    "    Y: 2D Numpy array of floats\n",
    "        y-coordinate of the mesh points.\n",
    "\n",
    "    Returns\n",
    "    -------\n",
    "    u: 2D Numpy array of floats\n",
    "        x-component of the velocity vector field.\n",
    "    v: 2D Numpy array of floats\n",
    "        y-component of the velocity vector field.\n",
    "    \"\"\"\n",
    "    u = +strength / (2 * math.pi) * (Y - yv) / ((X - xv)**2 + (Y - yv)**2)\n",
    "    v = -strength / (2 * math.pi) * (X - xv) / ((X - xv)**2 + (Y - yv)**2)\n",
    "\n",
    "    return u, v\n",
    "def get_stream_function_vortex(strength, xv, yv, X, Y):\n",
    "    \"\"\"\n",
    "    Returns the stream-function generated by a vortex.\n",
    "\n",
    "    Parameters\n",
    "    ----------\n",
    "    strength: float\n",
    "        Strength of the vortex.\n",
    "    xv: float\n",
    "        x-coordinate of the vortex.\n",
    "    yv: float\n",
    "        y-coordinate of the vortex.\n",
    "    X: 2D Numpy array of floats\n",
    "        x-coordinate of the mesh points.\n",
    "    Y: 2D Numpy array of floats\n",
    "        y-coordinate of the mesh points.\n",
    "\n",
    "    Returns\n",
    "    -------\n",
    "    psi: 2D Numpy array of floats\n",
    "        The stream-function.\n",
    "    \"\"\"\n",
    "    psi = strength / (4 * math.pi) * numpy.log((X - xv)**2 + (Y - yv)**2)\n",
    "\n",
    "    return psi\n"
   ]
  },
  {
   "cell_type": "markdown",
   "metadata": {},
   "source": [
    "panel creation: in this code i added the vortex panels"
   ]
  },
  {
   "cell_type": "code",
   "execution_count": 30,
   "metadata": {},
   "outputs": [],
   "source": [
    "class Panel:\n",
    "    \"\"\"\n",
    "    Contains information related to a panel.\n",
    "    \"\"\"\n",
    "    def __init__(self, xa, ya, xb, yb):\n",
    "        \"\"\"\n",
    "        Initializes the panel.\n",
    "        \n",
    "        Sets the end-points and calculates the center-point, length,\n",
    "        and angle (with the x-axis) of the panel.\n",
    "        Defines if the panel is located on the upper or lower surface of the geometry.\n",
    "        Initializes the circulation, tangential velocity, and pressure coefficient\n",
    "        of the panel to zero.\n",
    "        \n",
    "        Parameters\n",
    "        ---------_\n",
    "        xa: float\n",
    "            x-coordinate of the first end-point.\n",
    "        ya: float\n",
    "            y-coordinate of the first end-point.\n",
    "        xb: float\n",
    "            x-coordinate of the second end-point.\n",
    "        yb: float\n",
    "            y-coordinate of the second end-point.\n",
    "        \"\"\"\n",
    "        self.xa, self.ya = xa, ya  # panel starting-point\n",
    "        self.xb, self.yb = xb, yb  # panel ending-point\n",
    "        \n",
    "        self.xc, self.yc = (xa + xb) / 2, (ya + yb) / 2  # panel center\n",
    "        self.length = numpy.sqrt((xb - xa)**2 + (yb - ya)**2)  # panel length\n",
    "        \n",
    "        # orientation of panel (angle between x-axis and panel's normal)\n",
    "        if xb - xa <= 0.0:\n",
    "            self.beta = numpy.arccos((yb - ya) / self.length)\n",
    "        elif xb - xa > 0.0:\n",
    "            self.beta = numpy.pi + numpy.arccos(-(yb - ya) / self.length)\n",
    "        \n",
    "        # panel location\n",
    "        if self.beta <= numpy.pi:\n",
    "            self.loc = 'upper'  # upper surface\n",
    "        else:\n",
    "            self.loc = 'lower'  # lower surface\n",
    "        \n",
    "        self.gamma = 0.0  # circulation strength\n",
    "        self.vt = 0.0  # tangential velocity\n",
    "        self.cp = 0.0  # pressure coefficient\n",
    "        \n",
    "    def influence(self, other):\n",
    "        \"\"\"\n",
    "        Calculate the velocity influence of this panel on the control point of another panel.\n",
    "\n",
    "        Parameters\n",
    "        ----------\n",
    "        other: Panel object\n",
    "            The panel where the influence is being computed.\n",
    "\n",
    "        Returns\n",
    "        -------\n",
    "        (u, v): tuple of floats\n",
    "            Velocity components induced by this panel on the control point of another panel.\n",
    "        \"\"\"\n",
    "        u, v = get_velocity_vortex(self.gamma, self.xc, self.yc, other.xc, other.yc)\n",
    "        return u, v"
   ]
  },
  {
   "cell_type": "code",
   "execution_count": 22,
   "metadata": {},
   "outputs": [],
   "source": [
    "def define_panels(x, y, N=40):\n",
    "    \"\"\"\n",
    "    Discretizes the geometry into panels using 'cosine' method.\n",
    "    \n",
    "    Parameters\n",
    "    ----------\n",
    "    x: 1D array of floats\n",
    "        x-coordinate of the points defining the geometry.\n",
    "    y: 1D array of floats\n",
    "        y-coordinate of the points defining the geometry.\n",
    "    N: integer, optional\n",
    "        Number of panels;\n",
    "        default: 40.\n",
    "    \n",
    "    Returns\n",
    "    -------\n",
    "    panels: 1D Numpy array of Panel objects.\n",
    "        The list of panels.\n",
    "    \"\"\"\n",
    "    \n",
    "    R = (x.max() - x.min()) / 2.0  # circle radius\n",
    "    x_center = (x.max() + x.min()) / 2.0  # x-coordinate of circle center\n",
    "    \n",
    "    theta = numpy.linspace(0.0, 2.0 * numpy.pi, N + 1)  # array of angles\n",
    "    x_circle = x_center + R * numpy.cos(theta)  # x-coordinates of circle\n",
    "    \n",
    "    x_ends = numpy.copy(x_circle)  # x-coordinate of panels end-points\n",
    "    y_ends = numpy.empty_like(x_ends)  # y-coordinate of panels end-points\n",
    "    \n",
    "    # extend coordinates to consider closed surface\n",
    "    x, y = numpy.append(x, x[0]), numpy.append(y, y[0])\n",
    "    \n",
    "    # compute y-coordinate of end-points by projection\n",
    "    I = 0\n",
    "    for i in range(N):\n",
    "        while I < len(x) - 1:\n",
    "            if (x[I] <= x_ends[i] <= x[I + 1]) or (x[I + 1] <= x_ends[i] <= x[I]):\n",
    "                break\n",
    "            else:\n",
    "                I += 1\n",
    "        a = (y[I + 1] - y[I]) / (x[I + 1] - x[I])\n",
    "        b = y[I + 1] - a * x[I + 1]\n",
    "        y_ends[i] = a * x_ends[i] + b\n",
    "    y_ends[N] = y_ends[0]\n",
    "    \n",
    "    # create panels\n",
    "    panels = numpy.empty(N, dtype=object)\n",
    "    for i in range(N):\n",
    "        panels[i] = Panel(x_ends[i], y_ends[i], x_ends[i + 1], y_ends[i + 1])\n",
    "    \n",
    "    return panels\n"
   ]
  },
  {
   "cell_type": "code",
   "execution_count": 23,
   "metadata": {},
   "outputs": [
    {
     "data": {
      "image/png": "[encoded data removed]",
      "text/plain": [
       "<Figure size 1000x1000 with 1 Axes>"
      ]
     },
     "metadata": {},
     "output_type": "display_data"
    }
   ],
   "source": [
    "# discretize geoemetry into panels\n",
    "panels = define_panels(x, y, N=40)\n",
    "# plot discretized geometry\n",
    "width = 10\n",
    "pyplot.figure(figsize=(width, width))\n",
    "pyplot.grid()\n",
    "pyplot.xlabel('x', fontsize=16)\n",
    "pyplot.ylabel('y', fontsize=16)\n",
    "pyplot.plot(x, y, color='k', linestyle='-', linewidth=2)\n",
    "pyplot.plot(numpy.append([panel.xa for panel in panels], panels[0].xa),\n",
    "            numpy.append([panel.ya for panel in panels], panels[0].ya),\n",
    "            linestyle='-', linewidth=1, marker='o', markersize=6, color='#CD2305')\n",
    "pyplot.axis('scaled')\n",
    "pyplot.xlim(-0.1, 1.1)\n",
    "pyplot.ylim(-0.1, 0.1);"
   ]
  },
  {
   "cell_type": "markdown",
   "metadata": {},
   "source": [
    "freestream from class"
   ]
  },
  {
   "cell_type": "code",
   "execution_count": 27,
   "metadata": {},
   "outputs": [],
   "source": [
    "class Freestream:\n",
    "    \"\"\"\n",
    "    Freestream conditions.\n",
    "    \"\"\"\n",
    "    def __init__(self, u_inf=1.0, alpha=0.0):\n",
    "        \"\"\"\n",
    "        Sets the freestream speed and angle (in degrees).\n",
    "        \n",
    "        Parameters\n",
    "        ----------\n",
    "        u_inf: float, optional\n",
    "            Freestream speed;\n",
    "            default: 1.0.\n",
    "        alpha: float, optional\n",
    "            Angle of attack in degrees;\n",
    "            default 0.0.\n",
    "        \"\"\"\n",
    "        self.u_inf = u_inf\n",
    "        self.alpha = numpy.radians(alpha)  # degrees to radians\n",
    "\n",
    "\n",
    "# define freestream conditions\n",
    "freestream = Freestream(u_inf=1.0, alpha=4.0)"
   ]
  },
  {
   "cell_type": "markdown",
   "metadata": {},
   "source": [
    "Now that the influence function is set up, we will create a function to solve for the vortex strengths (gamma) by applying the boundary condition that the normal velocity on each panel should be zero (no flow through the panel)."
   ]
  },
  {
   "cell_type": "code",
   "execution_count": 31,
   "metadata": {},
   "outputs": [],
   "source": [
    "def solve_vortex_strengths(panels, u_inf, alpha):\n",
    "    \"\"\"\n",
    "    Solve for the vortex strengths (gamma) on each panel.\n",
    "\n",
    "    Parameters\n",
    "    ----------\n",
    "    panels: list of Panel objects\n",
    "        The panels of the airfoil.\n",
    "    u_inf: float\n",
    "        Freestream velocity.\n",
    "    alpha: float\n",
    "        Angle of attack in degrees.\n",
    "    \n",
    "    Returns\n",
    "    -------\n",
    "    numpy array of gamma values (circulations).\n",
    "    \"\"\"\n",
    "    N = len(panels)\n",
    "    A = numpy.zeros((N, N))  # coefficient matrix\n",
    "    b = numpy.zeros(N)  # right-hand side vector\n",
    "\n",
    "    # Fill the linear system\n",
    "    for i, panel_i in enumerate(panels):\n",
    "        for j, panel_j in enumerate(panels):\n",
    "            u_ij, v_ij = panel_j.influence(panel_i)\n",
    "            A[i, j] = u_ij * numpy.cos(panel_i.beta) + v_ij * numpy.sin(panel_i.beta)\n",
    "        b[i] = -u_inf * numpy.cos(alpha - panel_i.beta)\n",
    "\n",
    "    # Solve the system of equations for gamma\n",
    "    gamma = numpy.linalg.solve(A, b)\n",
    "    \n",
    "    # Update the gamma values for each panel\n",
    "    for i, panel in enumerate(panels):\n",
    "        panel.gamma = gamma[i]\n",
    "\n",
    "    return gamma\n"
   ]
  },
  {
   "cell_type": "markdown",
   "metadata": {},
   "source": [
    "Calculate Velocities and Pressure Coefficients"
   ]
  },
  {
   "cell_type": "code",
   "execution_count": 33,
   "metadata": {},
   "outputs": [],
   "source": [
    "def compute_tangential_velocity(panels, u_inf, alpha):\n",
    "    \"\"\"\n",
    "    Compute the tangential velocity at the control points of each panel.\n",
    "\n",
    "    Parameters\n",
    "    ----------\n",
    "    panels: list of Panel objects\n",
    "        The panels of the airfoil.\n",
    "    u_inf: float\n",
    "        Freestream velocity.\n",
    "    alpha: float\n",
    "        Angle of attack in degrees.\n",
    "    \"\"\"\n",
    "    for i, panel_i in enumerate(panels):\n",
    "        v_tangential = u_inf * numpy.sin(alpha - panel_i.beta)  # freestream contribution\n",
    "        for j, panel_j in enumerate(panels):\n",
    "            if i != j:\n",
    "                u_ij, v_ij = panel_j.influence(panel_i)\n",
    "                v_tangential += u_ij * numpy.sin(panel_i.beta) - v_ij * numpy.cos(panel_i.beta)\n",
    "        panel_i.vt = v_tangential\n",
    "def compute_pressure_coefficients(panels, u_inf):\n",
    "    \"\"\"\n",
    "    Compute the pressure coefficient at the control points of each panel.\n",
    "\n",
    "    Parameters\n",
    "    ----------\n",
    "    panels: list of Panel objects\n",
    "        The panels of the airfoil.\n",
    "    u_inf: float\n",
    "        Freestream velocity.\n",
    "    \"\"\"\n",
    "    for panel in panels:\n",
    "        panel.cp = 1.0 - (panel.vt / u_inf)**2  # Bernoulli's equation\n",
    "\n"
   ]
  },
  {
   "cell_type": "markdown",
   "metadata": {},
   "source": [
    "## stage 3"
   ]
  },
  {
   "cell_type": "markdown",
   "metadata": {},
   "source": [
    "first we will use the Blasius solution for boundary layer thickness:"
   ]
  },
  {
   "cell_type": "code",
   "execution_count": 34,
   "metadata": {},
   "outputs": [],
   "source": [
    "def boundary_layer_thickness(x, Re_x):\n",
    "    \"\"\"\n",
    "    Calculate the boundary layer thickness using the Blasius solution.\n",
    "\n",
    "    Parameters:\n",
    "    x : float\n",
    "        Distance from the leading edge.\n",
    "    Re_x : float\n",
    "        Reynolds number based on distance x.\n",
    "\n",
    "    Returns:\n",
    "    float\n",
    "        Boundary layer thickness.\n",
    "    \"\"\"\n",
    "    return 5.0 * x / np.sqrt(Re_x)\n"
   ]
  },
  {
   "cell_type": "markdown",
   "metadata": {},
   "source": [
    "Now we shall incorperate Viscous Effects "
   ]
  },
  {
   "cell_type": "code",
   "execution_count": 26,
   "metadata": {},
   "outputs": [],
   "source": [
    "def update_velocity_with_bl_effects(panels, u_freestream, nu):\n",
    "    \"\"\"\n",
    "    Updates the velocity on each panel to account for boundary layer effects.\n",
    "\n",
    "    Parameters:\n",
    "    panels : list of Panel objects\n",
    "        List of panels defining the airfoil.\n",
    "    u_freestream : float\n",
    "        Freestream velocity.\n",
    "    nu : float\n",
    "        Kinematic viscosity of the fluid.\n",
    "    \"\"\"\n",
    "    for panel in panels:\n",
    "        x_local = np.linspace(panel.xa, panel.xb, num=100)\n",
    "        Re_x = u_freestream * x_local / nu\n",
    "        delta = boundary_layer_thickness(x_local, Re_x)\n",
    "        # Assume linear change in velocity across the boundary layer\n",
    "        u_local = u_freestream * (1 - (delta / np.max(delta)))  # Simple linear profile\n",
    "        # Update panel velocity\n",
    "        panel.vt = np.mean(u_local)  # Example of updating velocity; adapt as needed"
   ]
  },
  {
   "cell_type": "markdown",
   "metadata": {},
   "source": [
    "Apply Boundary Layer Corrections After Solving for the Vortex Strengths"
   ]
  },
  {
   "cell_type": "code",
   "execution_count": null,
   "metadata": {},
   "outputs": [],
   "source": [
    "# After solving the vortex strengths and computing initial velocities\n",
    "u_inf = 1.0  # Freestream velocity in your scenario\n",
    "nu = 1.48e-5  # Kinematic viscosity of air (or another fluid depending on your setup)\n",
    "\n",
    "# Update panel velocities to account for boundary layer effects\n",
    "update_velocity_with_bl_effects(panels, u_inf, nu)\n",
    "\n",
    "# Recalculate pressure coefficients\n",
    "compute_pressure_coefficients(panels, u_inf)\n"
   ]
  },
  {
   "cell_type": "markdown",
   "metadata": {},
   "source": [
    "Modifying the Lift and Drag Calculation"
   ]
  },
  {
   "cell_type": "code",
   "execution_count": 35,
   "metadata": {},
   "outputs": [],
   "source": [
    "def compute_drag(panels, u_inf, chord_length):\n",
    "    \"\"\"\n",
    "    Compute the drag force on the airfoil using the modified panel velocities.\n",
    "\n",
    "    Parameters:\n",
    "    -----------\n",
    "    panels : list of Panel objects\n",
    "        The panels of the airfoil.\n",
    "    u_inf : float\n",
    "        Freestream velocity.\n",
    "    chord_length : float\n",
    "        Chord length of the airfoil.\n",
    "\n",
    "    Returns:\n",
    "    --------\n",
    "    float\n",
    "        Drag coefficient.\n",
    "    \"\"\"\n",
    "    drag_force = 0.0\n",
    "    for panel in panels:\n",
    "        # Compute force on each panel due to pressure difference\n",
    "        drag_force += panel.cp * np.cos(panel.beta) * panel.length\n",
    "\n",
    "    drag_coefficient = drag_force / (0.5 * u_inf**2 * chord_length)  # Normalize to coefficient\n",
    "    return drag_coefficient\n"
   ]
  },
  {
   "cell_type": "markdown",
   "metadata": {},
   "source": [
    "now we can check for correctness\n"
   ]
  },
  {
   "cell_type": "code",
   "execution_count": 36,
   "metadata": {},
   "outputs": [
    {
     "name": "stdout",
     "output_type": "stream",
     "text": [
      "Drag Coefficient: nan\n"
     ]
    },
    {
     "name": "stderr",
     "output_type": "stream",
     "text": [
      "C:\\Users\\Ben\\AppData\\Local\\Temp\\ipykernel_31092\\1690487789.py:25: RuntimeWarning: invalid value encountered in scalar divide\n",
      "  u = +strength / (2 * math.pi) * (Y - yv) / ((X - xv)**2 + (Y - yv)**2)\n",
      "C:\\Users\\Ben\\AppData\\Local\\Temp\\ipykernel_31092\\1690487789.py:26: RuntimeWarning: invalid value encountered in scalar divide\n",
      "  v = -strength / (2 * math.pi) * (X - xv) / ((X - xv)**2 + (Y - yv)**2)\n",
      "C:\\Users\\Ben\\AppData\\Local\\Temp\\ipykernel_31092\\3396068247.py:15: RuntimeWarning: invalid value encountered in divide\n",
      "  return 5.0 * x / np.sqrt(Re_x)\n"
     ]
    }
   ],
   "source": [
    "# Discretize airfoil geometry into panels\n",
    "panels = define_panels(x, y, N=40)\n",
    "\n",
    "# Solve for vortex strengths\n",
    "u_inf = 1.0  # Freestream velocity\n",
    "alpha = np.radians(5.0)  # Angle of attack in radians\n",
    "gamma = solve_vortex_strengths(panels, u_inf, alpha)\n",
    "\n",
    "# Compute tangential velocities and pressure coefficients\n",
    "compute_tangential_velocity(panels, u_inf, alpha)\n",
    "compute_pressure_coefficients(panels, u_inf)\n",
    "\n",
    "# Apply boundary layer corrections\n",
    "update_velocity_with_bl_effects(panels, u_inf, nu)\n",
    "\n",
    "# Recalculate pressure coefficients after boundary layer corrections\n",
    "compute_pressure_coefficients(panels, u_inf)\n",
    "\n",
    "# Compute drag based on updated pressure coefficients\n",
    "chord_length = 1.0  # Example chord length\n",
    "drag_coefficient = compute_drag(panels, u_inf, chord_length)\n",
    "\n",
    "print(f'Drag Coefficient: {drag_coefficient}')\n"
   ]
  }
 ],
 "metadata": {
  "kernelspec": {
   "display_name": "base",
   "language": "python",
   "name": "python3"
  },
  "language_info": {
   "codemirror_mode": {
    "name": "ipython",
    "version": 3
   },
   "file_extension": ".py",
   "mimetype": "text/x-python",
   "name": "python",
   "nbconvert_exporter": "python",
   "pygments_lexer": "ipython3",
   "version": "3.10.10"
  }
 },
 "nbformat": 4,
 "nbformat_minor": 2
}
